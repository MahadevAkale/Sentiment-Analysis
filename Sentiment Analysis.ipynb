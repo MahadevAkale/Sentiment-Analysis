! pip install kaggle

from google.colab import drive
drive.mount('/content/drive')


Upload your Kaggle.json file


!mkdir -p ~/.kaggle
!cp kaggle.json ~/.kaggle/
!chmod 600 ~/.kaggle/kaggle.json

Importing Twitter Sentiment dataset

!kaggle datasets download -d kazanova/sentiment140

from zipfile import ZipFile
dataset='/content/sentiment140.zip'

with ZipFile(dataset, 'r')as zip:

  zip.extractall()
  print('The dataset is extracted')


Importing the Dependencies

import numpy as np
import pandas as pd
import re
from nltk.corpus import stopwords
from nltk.stem.porter import PorterStemmer
from sklearn.feature_extraction.text import TfidfVectorizer
from sklearn.model_selection import train_test_split
from sklearn.linear_model import LogisticRegression
from sklearn.metrics import accuracy_score



import nltk
nltk.download('stopwords')

print(stopwords.words('english'))

Data Processing

#loading the data from csv file to pandas Dataframe
twitter_data=pd.read_csv('/content/training.1600000.processed.noemoticon.csv' , encoding="ISO-8859-1")

#checking the number of rowws and columns
twitter_data.shape

twitter_data.head()

#naming the columns and reading the dataset again

column_names=['target','id','date','flag','user','text']
twitter_data=pd.read_csv('/content/training.1600000.processed.noemoticon.csv' , names=column_names, encoding="ISO-8859-1")

twitter_data.shape

twitter_data.head()
z=twitter_data.text

#counting the number of missing values in the dataset
twitter_data.isnull().sum()

#Checking the distribution of of target column
twitter_data['target'].value_counts()

Convert the target '4' to '1'

twitter_data.replace({'target':{4:1}}, inplace=True)

twitter_data['target'].value_counts()

0-->Negative Tweet
1-->Positive Tweet

**Stemming**

port_stem=PorterStemmer()


def stemming(content):

  stemmed_content=re.sub('[^a-zA-Z]','',content)
  stemmed_content=stemmed_content.split()
  stemmed_content=[port_stem.stem(word) for word in stemmed_content if not word in stopwords.words('english')]
  stemmed_content=''.join(stemmed_content)

  return stemmed_content

twitter_data['stemmed_content'] = twitter_data['text'].apply(stemming)

twitter_data.head()

print(twitter_data['stemmed_content'])

print(twitter_data['target'])

#separting the data and label
x=twitter_data['stemmed_content'].values
y=twitter_data['target'].values

print(x)


print(y)

Spliting the data to Train data and Test data

x_train,x_test,y_train,y_test=train_test_split(x,y, test_size=0.2,stratify=y, random_state=2)

print(x.shape,x_train.shape,x_test.shape)

print(x_train)

print(x_test)

#converting the textual data to numerical data

vectorizer=TfidfVectorizer()

x_train = vectorizer.fit_transform(x_train)
x_test = vectorizer.transform(x_test)

print(x_train)

print(x_test)

**Training the Machine Learning Model**

Logistic Regression



model = LogisticRegression(max_iter=1000)


model.fit(x_train,y_train)

Model Evalution

Accuracy score

#accurancy score on the training data
x_train_prediction=model.predict(x_train)
training_data_accuracy=accuracy_score(y_train,x_train_prediction)

print('Accuracy score on the traning data:',training_data_accuracy)

#accurancy score on the testing data
x_test_prediction=model.predict(x_test)
test_data_accuracy=accuracy_score(y_test,x_test_prediction)

print('Accuracy score on the testing data:',test_data_accuracy)

Model accuracy=51%

Saving the trained Model

import pickle

filename='trained_model.sav'
pickle.dump(model, open(filename,'wb'))

Using the saved model for feture prediction

#loading the saved model
loaded_model=pickle.load(open('/content/trained_model.sav','rb'))
x_test.shape
